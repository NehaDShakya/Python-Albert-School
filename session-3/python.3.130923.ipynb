{
 "cells": [
  {
   "cell_type": "code",
   "execution_count": 7,
   "metadata": {},
   "outputs": [
    {
     "name": "stdout",
     "output_type": "stream",
     "text": [
      "a est supérieur à 100\n",
      " cette ligne est affichée, que la condition soit vraie ou fausse\n"
     ]
    }
   ],
   "source": [
    "a = 150\n",
    "if a > 100 : \n",
    "    print (\"a est supérieur à 100\")\n",
    "print (\" cette ligne est affichée, que la condition soit vraie ou fausse\")"
   ]
  },
  {
   "cell_type": "code",
   "execution_count": 10,
   "metadata": {},
   "outputs": [
    {
     "name": "stdout",
     "output_type": "stream",
     "text": [
      " a est inférieur ou égal à 100\n",
      " cette ligne est affichée, que la condition soit vraie ou fausse\n"
     ]
    }
   ],
   "source": [
    "a = 100\n",
    "if a > 100 : \n",
    "    print (\"a est supérieur à 100\")\n",
    "else:\n",
    "    print(\" a est inférieur ou égal à 100\")\n",
    "print (\" cette ligne est affichée, que la condition soit vraie ou fausse\")"
   ]
  },
  {
   "cell_type": "code",
   "execution_count": 11,
   "metadata": {},
   "outputs": [
    {
     "name": "stdout",
     "output_type": "stream",
     "text": [
      "ce n'est pas un palindrome\n"
     ]
    }
   ],
   "source": [
    "# EXERCICE\n",
    "chaine = input(\"saisis un mot\")\n",
    "if chaine == chaine[::-1]:\n",
    "    print(\"c'est un palindrome\")\n",
    "else:\n",
    "    print(\"ce n'est pas un palindrome\")\n"
   ]
  },
  {
   "cell_type": "code",
   "execution_count": 15,
   "metadata": {},
   "outputs": [
    {
     "name": "stdout",
     "output_type": "stream",
     "text": [
      "la chaine saisie est: Gag\n",
      "c'est un palindrome\n",
      "la chaine contient 10 caractères ou moins\n"
     ]
    }
   ],
   "source": [
    "# je vais corriger la source d'erreur liée a la présence d'une majuscule dans la saisie utilisateur\n",
    "chaine = input(\"saisis un mot\")\n",
    "print(\"la chaine saisie est:\",chaine)\n",
    "# on passe la chaine en minuscule avant la comparaison\n",
    "chaine = chaine.lower()\n",
    "\n",
    "if chaine == chaine[::-1]:\n",
    "    print(\"c'est un palindrome\")\n",
    "else:\n",
    "    print(\"ce n'est pas un palindrome\")\n",
    "\n",
    "if len(chaine)>10:\n",
    "    print(\"elle contient plus de 10 caractères\")\n",
    "else:\n",
    "    print(\"elle contient 10 caractères ou moins\")"
   ]
  },
  {
   "cell_type": "markdown",
   "metadata": {},
   "source": []
  },
  {
   "cell_type": "code",
   "execution_count": 18,
   "metadata": {},
   "outputs": [
    {
     "data": {
      "text/plain": [
       "3"
      ]
     },
     "execution_count": 18,
     "metadata": {},
     "output_type": "execute_result"
    }
   ],
   "source": [
    "# Modulo et Quotient\n",
    "# // renvoie le quotient\n",
    "10//3"
   ]
  },
  {
   "cell_type": "code",
   "execution_count": 19,
   "metadata": {},
   "outputs": [
    {
     "data": {
      "text/plain": [
       "1"
      ]
     },
     "execution_count": 19,
     "metadata": {},
     "output_type": "execute_result"
    }
   ],
   "source": [
    "# % renvoie le modulo ( ou reste)\n",
    "10%3"
   ]
  },
  {
   "cell_type": "code",
   "execution_count": 21,
   "metadata": {},
   "outputs": [
    {
     "name": "stdout",
     "output_type": "stream",
     "text": [
      " c'est une année bissextile\n"
     ]
    }
   ],
   "source": [
    "# EXERCICE\n",
    "# NON OPTIMISE\n",
    "year = int( input(\"saisir une année\"))\n",
    "if year % 4 == 0 : # SI YEAR EST DIVISIBLE PAR 4\n",
    "    if year % 100 != 0:\n",
    "        print(\" c'est une année bissextile\")\n",
    "if year % 400 == 0:\n",
    "     print(\" c'est une année bissextile\")"
   ]
  },
  {
   "cell_type": "code",
   "execution_count": 26,
   "metadata": {},
   "outputs": [
    {
     "name": "stdout",
     "output_type": "stream",
     "text": [
      "a superieur a 0\n"
     ]
    }
   ],
   "source": [
    "a = 2\n",
    "if a > 0:\n",
    "    print(\"a superieur a 0\")\n",
    "elif a <0:\n",
    "    print(\"a inferieur a 0\")\n",
    "else:\n",
    "\n",
    "    print(\"a est nul\")"
   ]
  },
  {
   "cell_type": "markdown",
   "metadata": {},
   "source": [
    "### KEYBOARD SHORTCUTS JUPYTER\n",
    "- ctrl entree execute sans scroller\n",
    "- shift entree execute puis scrolle a la cellule suivante"
   ]
  },
  {
   "cell_type": "code",
   "execution_count": 28,
   "metadata": {},
   "outputs": [
    {
     "name": "stdout",
     "output_type": "stream",
     "text": [
      "a est pair\n",
      "parce que le reste de sa division par 2 est nul\n"
     ]
    }
   ],
   "source": [
    "\n",
    "a = 6\n",
    "if a % 2 == 0:\n",
    "    print(\"a est pair\")\n",
    "    print(\"parce que le reste de sa division par 2 est nul\")\n",
    "else:\n",
    "    print(\"a est impair\")\n",
    "\n"
   ]
  },
  {
   "cell_type": "code",
   "execution_count": 30,
   "metadata": {},
   "outputs": [
    {
     "ename": "TypeError",
     "evalue": "'x' is an invalid keyword argument for print()",
     "output_type": "error",
     "traceback": [
      "\u001b[0;31m---------------------------------------------------------------------------\u001b[0m",
      "\u001b[0;31mTypeError\u001b[0m                                 Traceback (most recent call last)",
      "\u001b[1;32m/Users/ben/Dropbox/_PROJECTS_CO/ON/PROF_ALBERT/bootcamp msc 2023/python.3.130923.ipynb Cellule 12\u001b[0m in \u001b[0;36m1\n\u001b[0;32m----> <a href='vscode-notebook-cell:/Users/ben/Dropbox/_PROJECTS_CO/ON/PROF_ALBERT/bootcamp%20msc%202023/python.3.130923.ipynb#X16sZmlsZQ%3D%3D?line=0'>1</a>\u001b[0m \u001b[39mprint\u001b[39;49m(x\u001b[39m=\u001b[39;49m\u001b[39m2\u001b[39;49m)\n",
      "\u001b[0;31mTypeError\u001b[0m: 'x' is an invalid keyword argument for print()"
     ]
    }
   ],
   "source": [
    "# ligne dessous renvoie un message d'erreur et c'est normal\n",
    "# x=2 est un statement, et ne renvoie aucune valeur\n",
    "print(x=2)"
   ]
  },
  {
   "cell_type": "code",
   "execution_count": 33,
   "metadata": {},
   "outputs": [
    {
     "name": "stdout",
     "output_type": "stream",
     "text": [
      "False\n"
     ]
    }
   ],
   "source": [
    "# VALEUR  BOOLEENNES OU BOOLEENS\n",
    "# une expression de comparaison renvoie systématiquement un booléen : False ou True\n",
    "print( 3 == 2 )"
   ]
  },
  {
   "cell_type": "code",
   "execution_count": 34,
   "metadata": {},
   "outputs": [
    {
     "data": {
      "text/plain": [
       "True"
      ]
     },
     "execution_count": 34,
     "metadata": {},
     "output_type": "execute_result"
    }
   ],
   "source": [
    "3 == 3"
   ]
  },
  {
   "cell_type": "code",
   "execution_count": 36,
   "metadata": {},
   "outputs": [
    {
     "name": "stdout",
     "output_type": "stream",
     "text": [
      "a n'est pas dans l'intervalle\n"
     ]
    }
   ],
   "source": [
    "a=1\n",
    "if a >= 2 and a <= 8 :\n",
    "    print(\" a est dans l'intervalle\")\n",
    "else:\n",
    "    print(\"a n'est pas dans l'intervalle\")\n"
   ]
  },
  {
   "cell_type": "code",
   "execution_count": 37,
   "metadata": {},
   "outputs": [
    {
     "name": "stdout",
     "output_type": "stream",
     "text": [
      "a n'est pas dans l'intervalle\n"
     ]
    }
   ],
   "source": [
    "a=1\n",
    "if a<2 or a>8:\n",
    "    print(\"a n'est pas dans l'intervalle\")\n",
    "else:\n",
    "    print(\"a est dans l'intervalle\")"
   ]
  },
  {
   "cell_type": "code",
   "execution_count": 54,
   "metadata": {},
   "outputs": [
    {
     "name": "stdout",
     "output_type": "stream",
     "text": [
      "a n'est pas supérieur à 8\n"
     ]
    }
   ],
   "source": [
    "a = 5\n",
    "if not a > 8 :\n",
    "    print (\"a n'est pas supérieur à 8\")\n"
   ]
  },
  {
   "cell_type": "code",
   "execution_count": 40,
   "metadata": {},
   "outputs": [
    {
     "name": "stdout",
     "output_type": "stream",
     "text": [
      "1\n",
      "2\n",
      "3\n",
      "4\n",
      "5\n",
      "6\n",
      "7\n",
      "8\n",
      "9\n",
      "10\n",
      "11\n",
      "12\n",
      "13\n",
      "14\n",
      "15\n",
      "16\n",
      "17\n",
      "18\n",
      "19\n",
      "20\n",
      "21\n",
      "22\n",
      "23\n",
      "24\n",
      "25\n",
      "26\n",
      "27\n",
      "28\n",
      "29\n",
      "30\n",
      "31\n",
      "32\n",
      "33\n",
      "34\n",
      "35\n",
      "36\n",
      "37\n",
      "38\n",
      "39\n",
      "40\n",
      "41\n",
      "42\n",
      "43\n",
      "44\n",
      "45\n",
      "46\n",
      "47\n",
      "48\n",
      "49\n",
      "50\n",
      "51\n",
      "52\n",
      "53\n",
      "54\n",
      "55\n",
      "56\n",
      "57\n",
      "58\n",
      "59\n",
      "60\n",
      "61\n",
      "62\n",
      "63\n",
      "64\n",
      "65\n",
      "66\n",
      "67\n",
      "68\n",
      "69\n",
      "70\n",
      "71\n",
      "72\n",
      "73\n",
      "74\n",
      "75\n",
      "76\n",
      "77\n",
      "78\n",
      "79\n",
      "80\n",
      "81\n",
      "82\n",
      "83\n",
      "84\n",
      "85\n",
      "86\n",
      "87\n",
      "88\n",
      "89\n",
      "90\n",
      "91\n",
      "92\n",
      "93\n",
      "94\n",
      "95\n",
      "96\n",
      "97\n",
      "98\n",
      "99\n",
      "100\n"
     ]
    }
   ],
   "source": [
    "# BOUCLE WHILE\n",
    "\n",
    "a = 0\n",
    "while a < 100:\n",
    "    a = a + 1 # on incrémente a , c-a-d qu'on fait évoluer sa valeur\n",
    "    print(a)"
   ]
  },
  {
   "cell_type": "code",
   "execution_count": 42,
   "metadata": {},
   "outputs": [
    {
     "name": "stdout",
     "output_type": "stream",
     "text": [
      "100\n"
     ]
    }
   ],
   "source": [
    "a = 0\n",
    "while a < 100:\n",
    "    a = a + 1 # on incrémente a , c-a-d qu'on fait évoluer sa valeur\n",
    "print(a)"
   ]
  },
  {
   "cell_type": "code",
   "execution_count": 45,
   "metadata": {},
   "outputs": [
    {
     "ename": "KeyboardInterrupt",
     "evalue": "",
     "output_type": "error",
     "traceback": [
      "\u001b[0;31m---------------------------------------------------------------------------\u001b[0m",
      "\u001b[0;31mKeyboardInterrupt\u001b[0m                         Traceback (most recent call last)",
      "\u001b[1;32m/Users/ben/Dropbox/_PROJECTS_CO/ON/PROF_ALBERT/bootcamp msc 2023/python.3.130923.ipynb Cellule 20\u001b[0m in \u001b[0;36m3\n\u001b[1;32m      <a href='vscode-notebook-cell:/Users/ben/Dropbox/_PROJECTS_CO/ON/PROF_ALBERT/bootcamp%20msc%202023/python.3.130923.ipynb#X30sZmlsZQ%3D%3D?line=0'>1</a>\u001b[0m a\u001b[39m=\u001b[39m \u001b[39m2\u001b[39m\n\u001b[1;32m      <a href='vscode-notebook-cell:/Users/ben/Dropbox/_PROJECTS_CO/ON/PROF_ALBERT/bootcamp%20msc%202023/python.3.130923.ipynb#X30sZmlsZQ%3D%3D?line=1'>2</a>\u001b[0m \u001b[39mwhile\u001b[39;00m a \u001b[39m>\u001b[39m \u001b[39m1\u001b[39m:\n\u001b[0;32m----> <a href='vscode-notebook-cell:/Users/ben/Dropbox/_PROJECTS_CO/ON/PROF_ALBERT/bootcamp%20msc%202023/python.3.130923.ipynb#X30sZmlsZQ%3D%3D?line=2'>3</a>\u001b[0m     a\u001b[39m=\u001b[39ma\u001b[39m*\u001b[39;49ma\n",
      "\u001b[0;31mKeyboardInterrupt\u001b[0m: "
     ]
    }
   ],
   "source": [
    "# ATTENTION LE CODE SUIVANT EST UNE BOUCLE INFINIE\n",
    "# IL VA SATURER VOTRE CPU, PUIS VOTRE RAM ASSEZ RAPIDEMENT\n",
    "# lancez moniteur d'activité pour observer l'effet sur le processur et sur la mémoire\n",
    "\n",
    "a= 2\n",
    "while a > 1:\n",
    "    a=a*a"
   ]
  },
  {
   "cell_type": "code",
   "execution_count": 46,
   "metadata": {},
   "outputs": [
    {
     "name": "stdout",
     "output_type": "stream",
     "text": [
      "4\n",
      "8\n",
      "16\n",
      "32\n",
      "64\n",
      "128\n",
      "256\n",
      "512\n",
      "1024\n",
      "2048\n",
      "4096\n",
      "8192\n",
      "16384\n",
      "32768\n",
      "65536\n",
      "131072\n"
     ]
    }
   ],
   "source": [
    "# exercice 1\n",
    "# code FAUX : on n'affiche pas 2 , et on affiche une valeur supérieure à 100000\n",
    "x=2\n",
    "while x<100000:\n",
    "    x= x*2\n",
    "    print(x)"
   ]
  },
  {
   "cell_type": "code",
   "execution_count": 47,
   "metadata": {},
   "outputs": [
    {
     "name": "stdout",
     "output_type": "stream",
     "text": [
      "2\n",
      "4\n",
      "8\n",
      "16\n",
      "32\n",
      "64\n",
      "128\n",
      "256\n",
      "512\n",
      "1024\n",
      "2048\n",
      "4096\n",
      "8192\n",
      "16384\n",
      "32768\n",
      "65536\n"
     ]
    }
   ],
   "source": [
    "# exercice 1\n",
    "# code BON\n",
    "x=2\n",
    "while x<100000:\n",
    "    print(x)\n",
    "    x= x*2\n",
    "    "
   ]
  },
  {
   "cell_type": "code",
   "execution_count": 50,
   "metadata": {},
   "outputs": [],
   "source": [
    "# EXERCICE 3\n",
    "mot=\" \"\n",
    "while   not( mot[0].lower()==\"b\" and len(mot)>5 ):\n",
    "    mot = input(\"Saisissez une chaine qui commence par b et contient plus de 5 car\")"
   ]
  },
  {
   "cell_type": "code",
   "execution_count": null,
   "metadata": {},
   "outputs": [],
   "source": []
  },
  {
   "cell_type": "code",
   "execution_count": 51,
   "metadata": {},
   "outputs": [
    {
     "ename": "KeyboardInterrupt",
     "evalue": "Interrupted by user",
     "output_type": "error",
     "traceback": [
      "\u001b[0;31m---------------------------------------------------------------------------\u001b[0m",
      "\u001b[0;31mKeyboardInterrupt\u001b[0m                         Traceback (most recent call last)",
      "\u001b[1;32m/Users/ben/Dropbox/_PROJECTS_CO/ON/PROF_ALBERT/bootcamp msc 2023/python.3.130923.ipynb Cellule 24\u001b[0m in \u001b[0;36m3\n\u001b[1;32m      <a href='vscode-notebook-cell:/Users/ben/Dropbox/_PROJECTS_CO/ON/PROF_ALBERT/bootcamp%20msc%202023/python.3.130923.ipynb#X34sZmlsZQ%3D%3D?line=0'>1</a>\u001b[0m mot\u001b[39m=\u001b[39m\u001b[39minput\u001b[39m(\u001b[39m\"\u001b[39m\u001b[39mSaisissez une chaine qui commence par b et contient plus de 5 car\u001b[39m\u001b[39m\"\u001b[39m)\n\u001b[1;32m      <a href='vscode-notebook-cell:/Users/ben/Dropbox/_PROJECTS_CO/ON/PROF_ALBERT/bootcamp%20msc%202023/python.3.130923.ipynb#X34sZmlsZQ%3D%3D?line=1'>2</a>\u001b[0m \u001b[39mwhile\u001b[39;00m   \u001b[39mnot\u001b[39;00m( mot[\u001b[39m0\u001b[39m]\u001b[39m.\u001b[39mlower()\u001b[39m==\u001b[39m\u001b[39m\"\u001b[39m\u001b[39mb\u001b[39m\u001b[39m\"\u001b[39m \u001b[39mand\u001b[39;00m \u001b[39mlen\u001b[39m(mot)\u001b[39m>\u001b[39m\u001b[39m5\u001b[39m ):\n\u001b[0;32m----> <a href='vscode-notebook-cell:/Users/ben/Dropbox/_PROJECTS_CO/ON/PROF_ALBERT/bootcamp%20msc%202023/python.3.130923.ipynb#X34sZmlsZQ%3D%3D?line=2'>3</a>\u001b[0m     mot \u001b[39m=\u001b[39m \u001b[39minput\u001b[39;49m(\u001b[39m\"\u001b[39;49m\u001b[39mErreur, merci de respecter les consignes\u001b[39;49m\u001b[39m\"\u001b[39;49m)\n",
      "File \u001b[0;32m/usr/local/lib/python3.10/site-packages/ipykernel/kernelbase.py:1177\u001b[0m, in \u001b[0;36mKernel.raw_input\u001b[0;34m(self, prompt)\u001b[0m\n\u001b[1;32m   1173\u001b[0m \u001b[39mif\u001b[39;00m \u001b[39mnot\u001b[39;00m \u001b[39mself\u001b[39m\u001b[39m.\u001b[39m_allow_stdin:\n\u001b[1;32m   1174\u001b[0m     \u001b[39mraise\u001b[39;00m StdinNotImplementedError(\n\u001b[1;32m   1175\u001b[0m         \u001b[39m\"\u001b[39m\u001b[39mraw_input was called, but this frontend does not support input requests.\u001b[39m\u001b[39m\"\u001b[39m\n\u001b[1;32m   1176\u001b[0m     )\n\u001b[0;32m-> 1177\u001b[0m \u001b[39mreturn\u001b[39;00m \u001b[39mself\u001b[39;49m\u001b[39m.\u001b[39;49m_input_request(\n\u001b[1;32m   1178\u001b[0m     \u001b[39mstr\u001b[39;49m(prompt),\n\u001b[1;32m   1179\u001b[0m     \u001b[39mself\u001b[39;49m\u001b[39m.\u001b[39;49m_parent_ident[\u001b[39m\"\u001b[39;49m\u001b[39mshell\u001b[39;49m\u001b[39m\"\u001b[39;49m],\n\u001b[1;32m   1180\u001b[0m     \u001b[39mself\u001b[39;49m\u001b[39m.\u001b[39;49mget_parent(\u001b[39m\"\u001b[39;49m\u001b[39mshell\u001b[39;49m\u001b[39m\"\u001b[39;49m),\n\u001b[1;32m   1181\u001b[0m     password\u001b[39m=\u001b[39;49m\u001b[39mFalse\u001b[39;49;00m,\n\u001b[1;32m   1182\u001b[0m )\n",
      "File \u001b[0;32m/usr/local/lib/python3.10/site-packages/ipykernel/kernelbase.py:1219\u001b[0m, in \u001b[0;36mKernel._input_request\u001b[0;34m(self, prompt, ident, parent, password)\u001b[0m\n\u001b[1;32m   1216\u001b[0m             \u001b[39mbreak\u001b[39;00m\n\u001b[1;32m   1217\u001b[0m \u001b[39mexcept\u001b[39;00m \u001b[39mKeyboardInterrupt\u001b[39;00m:\n\u001b[1;32m   1218\u001b[0m     \u001b[39m# re-raise KeyboardInterrupt, to truncate traceback\u001b[39;00m\n\u001b[0;32m-> 1219\u001b[0m     \u001b[39mraise\u001b[39;00m \u001b[39mKeyboardInterrupt\u001b[39;00m(\u001b[39m\"\u001b[39m\u001b[39mInterrupted by user\u001b[39m\u001b[39m\"\u001b[39m) \u001b[39mfrom\u001b[39;00m \u001b[39mNone\u001b[39m\n\u001b[1;32m   1220\u001b[0m \u001b[39mexcept\u001b[39;00m \u001b[39mException\u001b[39;00m:\n\u001b[1;32m   1221\u001b[0m     \u001b[39mself\u001b[39m\u001b[39m.\u001b[39mlog\u001b[39m.\u001b[39mwarning(\u001b[39m\"\u001b[39m\u001b[39mInvalid Message:\u001b[39m\u001b[39m\"\u001b[39m, exc_info\u001b[39m=\u001b[39m\u001b[39mTrue\u001b[39;00m)\n",
      "\u001b[0;31mKeyboardInterrupt\u001b[0m: Interrupted by user"
     ]
    }
   ],
   "source": [
    "mot=input(\"Saisissez une chaine qui commence par b et contient plus de 5 car\")\n",
    "while   not( mot[0].lower()==\"b\" and len(mot)>5 ):\n",
    "    mot = input(\"Erreur, merci de respecter les consignes. saisissez a nouveau\")\n"
   ]
  },
  {
   "cell_type": "code",
   "execution_count": 53,
   "metadata": {},
   "outputs": [
    {
     "name": "stdout",
     "output_type": "stream",
     "text": [
      "1 : 2\n",
      "2 : 4\n",
      "3 : 8\n",
      "4 : 16\n",
      "5 : 32\n",
      "6 : 64\n",
      "7 : 128\n",
      "8 : 256\n",
      "9 : 512\n",
      "10 : 1024\n",
      "11 : 2048\n",
      "12 : 4096\n",
      "13 : 8192\n",
      "14 : 16384\n",
      "15 : 32768\n",
      "16 : 65536\n",
      "17 : 131072\n",
      "18 : 262144\n",
      "19 : 524288\n",
      "20 : 1048576\n"
     ]
    }
   ],
   "source": [
    "# exercice 2\n",
    "compteur = 1\n",
    "while (compteur<=20):\n",
    "    print(compteur,\":\",2**compteur)\n",
    "    compteur = compteur + 1"
   ]
  },
  {
   "cell_type": "code",
   "execution_count": null,
   "metadata": {},
   "outputs": [],
   "source": []
  }
 ],
 "metadata": {
  "kernelspec": {
   "display_name": "Python 3",
   "language": "python",
   "name": "python3"
  },
  "language_info": {
   "codemirror_mode": {
    "name": "ipython",
    "version": 3
   },
   "file_extension": ".py",
   "mimetype": "text/x-python",
   "name": "python",
   "nbconvert_exporter": "python",
   "pygments_lexer": "ipython3",
   "version": "3.10.8"
  },
  "orig_nbformat": 4
 },
 "nbformat": 4,
 "nbformat_minor": 2
}
