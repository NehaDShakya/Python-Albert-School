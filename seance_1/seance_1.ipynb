{
 "cells": [
  {
   "cell_type": "code",
   "execution_count": null,
   "metadata": {},
   "outputs": [],
   "source": [
    "print('hello world')"
   ]
  },
  {
   "cell_type": "code",
   "execution_count": null,
   "metadata": {},
   "outputs": [],
   "source": [
    "A=7\n",
    "B=\"Bob\"\n",
    "C=10.1\n",
    "D=\"7\"\n"
   ]
  },
  {
   "cell_type": "code",
   "execution_count": null,
   "metadata": {},
   "outputs": [],
   "source": [
    "print(A+int(D))\n"
   ]
  },
  {
   "cell_type": "code",
   "execution_count": 3,
   "metadata": {},
   "outputs": [
    {
     "name": "stdout",
     "output_type": "stream",
     "text": [
      "Hellouu warld !\n"
     ]
    }
   ],
   "source": [
    "TEXTE= \"Hellouu warld !\"\n",
    "print(TEXTE)\n"
   ]
  },
  {
   "cell_type": "code",
   "execution_count": 1,
   "metadata": {},
   "outputs": [
    {
     "name": "stdout",
     "output_type": "stream",
     "text": [
      "32\n"
     ]
    }
   ],
   "source": [
    "nombre =22\n",
    "print(nombre+10)"
   ]
  },
  {
   "cell_type": "code",
   "execution_count": 4,
   "metadata": {},
   "outputs": [
    {
     "name": "stdout",
     "output_type": "stream",
     "text": [
      "<class 'str'>\n",
      "<class 'int'>\n"
     ]
    }
   ],
   "source": [
    "print(type(TEXTE))\n",
    "print(type(nombre))"
   ]
  },
  {
   "cell_type": "markdown",
   "metadata": {},
   "source": [
    "On observe que la **dernière ligne** d'une cellule de code jupyter est *printée* automatiquement par défaut"
   ]
  },
  {
   "cell_type": "code",
   "execution_count": 5,
   "metadata": {},
   "outputs": [
    {
     "data": {
      "text/plain": [
       "10"
      ]
     },
     "execution_count": 5,
     "metadata": {},
     "output_type": "execute_result"
    }
   ],
   "source": [
    "2*3\n",
    "2*5"
   ]
  },
  {
   "cell_type": "markdown",
   "metadata": {},
   "source": [
    "Python donne automatiquement un type aux variables que je crée"
   ]
  },
  {
   "cell_type": "code",
   "execution_count": 6,
   "metadata": {},
   "outputs": [
    {
     "name": "stdout",
     "output_type": "stream",
     "text": [
      "Le contenu de ma variable x est : \n",
      " Hello World\n"
     ]
    }
   ],
   "source": [
    "x=\"Hello World\"\n",
    "print(\"Le contenu de ma variable x est :\",\"\\n\",x)"
   ]
  },
  {
   "cell_type": "code",
   "execution_count": 7,
   "metadata": {},
   "outputs": [
    {
     "name": "stdout",
     "output_type": "stream",
     "text": [
      "Jalil\n",
      "<class 'str'>\n"
     ]
    }
   ],
   "source": [
    "prenom=input(\"Quel est votre prénom ?\")\n",
    "print(prenom)\n",
    "print(type(prenom))"
   ]
  },
  {
   "cell_type": "markdown",
   "metadata": {},
   "source": [
    "Input typ is **ALWAYS** str"
   ]
  },
  {
   "cell_type": "code",
   "execution_count": 9,
   "metadata": {},
   "outputs": [
    {
     "name": "stdout",
     "output_type": "stream",
     "text": [
      "il est né en 1872\n",
      "il est né en 1872\n"
     ]
    },
    {
     "ename": "TypeError",
     "evalue": "can only concatenate str (not \"int\") to str",
     "output_type": "error",
     "traceback": [
      "\u001b[1;31m---------------------------------------------------------------------------\u001b[0m",
      "\u001b[1;31mTypeError\u001b[0m                                 Traceback (most recent call last)",
      "\u001b[1;32mc:\\Users\\hp\\Python-Albert-School\\seance_1.ipynb Cell 13\u001b[0m line \u001b[0;36m5\n\u001b[0;32m      <a href='vscode-notebook-cell:/c%3A/Users/hp/Python-Albert-School/seance_1.ipynb#X15sZmlsZQ%3D%3D?line=2'>3</a>\u001b[0m \u001b[39mprint\u001b[39m(chaine,chiffre)\n\u001b[0;32m      <a href='vscode-notebook-cell:/c%3A/Users/hp/Python-Albert-School/seance_1.ipynb#X15sZmlsZQ%3D%3D?line=3'>4</a>\u001b[0m \u001b[39mprint\u001b[39m(chaine \u001b[39m+\u001b[39m \u001b[39m\"\u001b[39m\u001b[39m \u001b[39m\u001b[39m\"\u001b[39m\u001b[39m+\u001b[39m \u001b[39mstr\u001b[39m(chiffre))\n\u001b[1;32m----> <a href='vscode-notebook-cell:/c%3A/Users/hp/Python-Albert-School/seance_1.ipynb#X15sZmlsZQ%3D%3D?line=4'>5</a>\u001b[0m \u001b[39mprint\u001b[39m(chaine \u001b[39m+\u001b[39;49m chiffre)\n",
      "\u001b[1;31mTypeError\u001b[0m: can only concatenate str (not \"int\") to str"
     ]
    }
   ],
   "source": [
    "chiffre=1872\n",
    "chaine= \"il est né en\"\n",
    "print(chaine,chiffre)\n",
    "print(chaine + \" \"+ str(chiffre))\n",
    "print(chaine + chiffre)"
   ]
  },
  {
   "cell_type": "code",
   "execution_count": 10,
   "metadata": {},
   "outputs": [
    {
     "name": "stdout",
     "output_type": "stream",
     "text": [
      "2 5 8\n",
      "8 5 2\n",
      "Let's try it another way\n",
      "2 5 8\n",
      "8 5 2\n"
     ]
    }
   ],
   "source": [
    "a,b,c=2,5,8\n",
    "print(a,b,c)\n",
    "a,c=c,a\n",
    "print(a,b,c)\n",
    "print(\"Let's try it another way\")\n",
    "a=2\n",
    "b=5\n",
    "c=8\n",
    "print(a,b,c)\n",
    "a,c=c,a\n",
    "print(a,b,c)"
   ]
  }
 ],
 "metadata": {
  "kernelspec": {
   "display_name": "Python 3",
   "language": "python",
   "name": "python3"
  },
  "language_info": {
   "codemirror_mode": {
    "name": "ipython",
    "version": 3
   },
   "file_extension": ".py",
   "mimetype": "text/x-python",
   "name": "python",
   "nbconvert_exporter": "python",
   "pygments_lexer": "ipython3",
   "version": "3.11.5"
  },
  "orig_nbformat": 4
 },
 "nbformat": 4,
 "nbformat_minor": 2
}
