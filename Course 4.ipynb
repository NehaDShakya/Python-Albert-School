{
 "cells": [
  {
   "cell_type": "markdown",
   "metadata": {},
   "source": [
    "# Course 4"
   ]
  },
  {
   "cell_type": "code",
   "execution_count": 6,
   "metadata": {},
   "outputs": [
    {
     "name": "stdout",
     "output_type": "stream",
     "text": [
      "Le chiffre est impair\n"
     ]
    }
   ],
   "source": [
    "chiffreChoisi = input(\"Choisis un chiffre ou q pour quitter : \")\n",
    "while chiffreChoisi.lower() != \"q\": \n",
    "    if int(chiffreChoisi) % 2 == 0 :\n",
    "        print(\"Le chiffre est pair\")\n",
    "    else :\n",
    "        print(\"Le chiffre est impair\")\n",
    "    chiffreChoisi = input(\"Merci de saisir un chiffre ou q pour quitter\")\n",
    "\n",
    "\n"
   ]
  },
  {
   "cell_type": "code",
   "execution_count": 11,
   "metadata": {},
   "outputs": [
    {
     "name": "stdout",
     "output_type": "stream",
     "text": [
      "Bye\n"
     ]
    }
   ],
   "source": [
    "#Version améliorée plus solide\n",
    "chiffreChoisi = input(\"Choisis un chiffre ou q pour quitter : \")\n",
    "while chiffreChoisi.lower() != \"q\":\n",
    "    if chiffreChoisi.isdigit():\n",
    "        if int(chiffreChoisi) % 2 == 0 :\n",
    "            print(\"Le chiffre est pair\")\n",
    "        else :\n",
    "            print(\"Le chiffre est impair\")    \n",
    "    else :\n",
    "        print(\"Vous n'avez pas saisi un chiffre\")\n",
    "\n",
    "    chiffreChoisi = input(\"Merci de saisir un chiffre ou q pour quitter\")\n",
    "print(\"Bye\")\n"
   ]
  },
  {
   "cell_type": "markdown",
   "metadata": {},
   "source": [
    "Les listes"
   ]
  },
  {
   "cell_type": "code",
   "execution_count": 13,
   "metadata": {},
   "outputs": [
    {
     "name": "stdout",
     "output_type": "stream",
     "text": [
      "['lundi', 'batman', 1800, 'toto']\n",
      "1800\n"
     ]
    }
   ],
   "source": [
    "maliste = [\"lundi\", \"batman\", 1800, \"toto\"]\n",
    "print(maliste)\n",
    "print(maliste[2])"
   ]
  },
  {
   "cell_type": "code",
   "execution_count": 14,
   "metadata": {},
   "outputs": [
    {
     "name": "stdout",
     "output_type": "stream",
     "text": [
      "['lundi', 'Hulk', 1800, 'toto']\n"
     ]
    }
   ],
   "source": [
    "# Listes sont mutable, je peix modifier chacun de ses éléments\n",
    "# N'oublions pas que le premier élément d'une liste a le rang 0, 1, 2 et 3.\n",
    "maliste[1] = \"Hulk\"\n",
    "print(maliste)"
   ]
  },
  {
   "cell_type": "code",
   "execution_count": 15,
   "metadata": {},
   "outputs": [
    {
     "name": "stdout",
     "output_type": "stream",
     "text": [
      "4\n"
     ]
    }
   ],
   "source": [
    "# len() renvoie le nb d'élemnts  d'une liste\n",
    "print(len(maliste))"
   ]
  },
  {
   "cell_type": "code",
   "execution_count": 17,
   "metadata": {},
   "outputs": [
    {
     "name": "stdout",
     "output_type": "stream",
     "text": [
      "['a', 'e', 'i', 'o', 'u']\n",
      "a\n"
     ]
    }
   ],
   "source": [
    "vowels = ['e', 'a', 'u', 'o', 'i']\n",
    "vowels.sort()\n",
    "# Attention, \"sort\", trie les valeurs directement mais ne les imprime pas directement\n",
    "print(vowels)\n",
    "print(min(vowels))"
   ]
  },
  {
   "cell_type": "code",
   "execution_count": 19,
   "metadata": {},
   "outputs": [
    {
     "name": "stdout",
     "output_type": "stream",
     "text": [
      "[2, 'Lundi']\n"
     ]
    }
   ],
   "source": [
    "# Créer une liste vierge\n",
    "newlist = []\n",
    "newlist.append(2)\n",
    "newlist.append(\"Lundi\")\n",
    "print(newlist)"
   ]
  },
  {
   "cell_type": "markdown",
   "metadata": {},
   "source": [
    "Exercice"
   ]
  },
  {
   "cell_type": "code",
   "execution_count": 31,
   "metadata": {},
   "outputs": [
    {
     "ename": "AttributeError",
     "evalue": "'str' object has no attribute 'append'",
     "output_type": "error",
     "traceback": [
      "\u001b[0;31m---------------------------------------------------------------------------\u001b[0m",
      "\u001b[0;31mAttributeError\u001b[0m                            Traceback (most recent call last)",
      "\u001b[1;32mUntitled-1.ipynb Cell 11\u001b[0m line \u001b[0;36m4\n\u001b[1;32m      <a href='vscode-notebook-cell:Untitled-1.ipynb?jupyter-notebook#X15sdW50aXRsZWQ%3D?line=1'>2</a>\u001b[0m name \u001b[39m=\u001b[39m \u001b[39minput\u001b[39m(\u001b[39m\"\u001b[39m\u001b[39m Rntrez des noms puis terminer par \u001b[39m\u001b[39m'\u001b[39m\u001b[39mq\u001b[39m\u001b[39m'\u001b[39m\u001b[39m\"\u001b[39m)\n\u001b[1;32m      <a href='vscode-notebook-cell:Untitled-1.ipynb?jupyter-notebook#X15sdW50aXRsZWQ%3D?line=2'>3</a>\u001b[0m \u001b[39mwhile\u001b[39;00m name\u001b[39m.\u001b[39mlower() \u001b[39m!=\u001b[39m \u001b[39m\"\u001b[39m\u001b[39mq\u001b[39m\u001b[39m\"\u001b[39m: \n\u001b[0;32m----> <a href='vscode-notebook-cell:Untitled-1.ipynb?jupyter-notebook#X15sdW50aXRsZWQ%3D?line=3'>4</a>\u001b[0m     name\u001b[39m.\u001b[39;49mappend(name)\n\u001b[1;32m      <a href='vscode-notebook-cell:Untitled-1.ipynb?jupyter-notebook#X15sdW50aXRsZWQ%3D?line=4'>5</a>\u001b[0m     name \u001b[39m=\u001b[39m \u001b[39minput\u001b[39m(\u001b[39m\"\u001b[39m\u001b[39mEntrez des noms puis terminer par \u001b[39m\u001b[39m'\u001b[39m\u001b[39mq\u001b[39m\u001b[39m'\u001b[39m\u001b[39m :  \u001b[39m\u001b[39m\"\u001b[39m)\n\u001b[1;32m      <a href='vscode-notebook-cell:Untitled-1.ipynb?jupyter-notebook#X15sdW50aXRsZWQ%3D?line=5'>6</a>\u001b[0m names\u001b[39m.\u001b[39msort()\n",
      "\u001b[0;31mAttributeError\u001b[0m: 'str' object has no attribute 'append'"
     ]
    }
   ],
   "source": [
    "names = []\n",
    "name = input(\" Rntrez des noms puis terminer par 'q'\")\n",
    "while name.lower() != \"q\": \n",
    "    name.append(name)\n",
    "    name = input(\"Entrez des noms puis terminer par 'q' :  \")\n",
    "names.sort()\n",
    "print(names)"
   ]
  }
 ],
 "metadata": {
  "kernelspec": {
   "display_name": "Python 3",
   "language": "python",
   "name": "python3"
  },
  "language_info": {
   "codemirror_mode": {
    "name": "ipython",
    "version": 3
   },
   "file_extension": ".py",
   "mimetype": "text/x-python",
   "name": "python",
   "nbconvert_exporter": "python",
   "pygments_lexer": "ipython3",
   "version": "3.11.5"
  },
  "orig_nbformat": 4
 },
 "nbformat": 4,
 "nbformat_minor": 2
}
